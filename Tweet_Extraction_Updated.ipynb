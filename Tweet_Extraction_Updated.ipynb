{
  "nbformat": 4,
  "nbformat_minor": 0,
  "metadata": {
    "colab": {
      "provenance": []
    },
    "kernelspec": {
      "name": "python3",
      "display_name": "Python 3"
    },
    "language_info": {
      "name": "python"
    }
  },
  "cells": [
    {
      "cell_type": "markdown",
      "source": [
        "# Extract tweets from Twitter using Tweepy"
      ],
      "metadata": {
        "id": "f_y1JPCi2FsZ"
      }
    },
    {
      "cell_type": "code",
      "source": [
        "pip install tweepy --upgrade"
      ],
      "metadata": {
        "id": "E9TZWWPYiN6T"
      },
      "execution_count": null,
      "outputs": []
    },
    {
      "cell_type": "code",
      "execution_count": null,
      "metadata": {
        "id": "OTFFNwdkiJQh"
      },
      "outputs": [],
      "source": [
        "import tweepy\n",
        "\n",
        "client = tweepy.Client(\"bearer code\")\n",
        "\n",
        "import pandas as pd\n",
        "ehm_dutch_df  = pd.DataFrame(columns=['tweet','tweet_url'])\n",
        "tweet_dutch_ehm = []\n",
        "id_ducth_ehm = []\n",
        "query = \"(um) lang:nl\"\n",
        "max_tweets = 100\n",
        "for tweet in tweepy.Paginator(client.search_recent_tweets, query=query,\n",
        "                                max_results=max_tweets).flatten(limit=871):\n",
        "                                dutch_tweet = str(tweet.text)\n",
        "                                tweet_dutch_ehm.append(dutch_tweet)\n",
        "                                tweet_id = \"https://twitter.com/twitter/statuses/\" + str(tweet.id)\n",
        "                                id_ducth_ehm.append(tweet_id)\n",
        "ehm_dutch_df['tweet'] = tweet_dutch_ehm\n",
        "ehm_dutch_df['tweet_url'] = id_ducth_ehm\n",
        "ehm_dutch_df.to_csv('um_dutch_2.csv')"
      ]
    }
  ]
}